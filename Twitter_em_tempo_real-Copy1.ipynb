{
 "cells": [
  {
   "cell_type": "markdown",
   "id": "00cbd0a0",
   "metadata": {},
   "source": [
    "# Importando dados do twitter em tempo real\n",
    "\n",
    "- Vamos usar a biblioteca tweepy: <br>\n",
    "    https://docs.tweepy.org/en/stable/\n"
   ]
  },
  {
   "cell_type": "code",
   "execution_count": 1,
   "id": "1c78cd84",
   "metadata": {},
   "outputs": [],
   "source": [
    "import tweepy as tw\n",
    "import pandas as pd\n",
    "import sqlite3"
   ]
  },
  {
   "cell_type": "code",
   "execution_count": 2,
   "id": "69adfcae",
   "metadata": {},
   "outputs": [],
   "source": [
    "bearer_token = 'AAAAAAAAAAAAAAAAAAAAAChZZAEAAAAAAlQCiYRgRGTjzRQ1po57pv%2F01wY%3DliOreN8sZlFXNFUHUqd1Muv18zkmzHjtHpO2UhN5XqqTmxVMOj'\n",
    "consumer_key = 'OWCAlenDa9vqb6BzuJui2HDlN'\n",
    "consumer_secret = 'xFxybviIyTUjyJdUJDjrAMI9xfPhSsfn4kDfdlU2i0Q194ZeMv'\n",
    "access_token = '1488328327081476100-pWRPZHouemNznjQxH7EWuCzZFUnUpA'\n",
    "access_token_secret = 'm7NTr2M9g8RyOMqeb52QmmiU9dYCo7NzLM1RdJWPJqlnV'"
   ]
  },
  {
   "cell_type": "code",
   "execution_count": 3,
   "id": "7ae3cae6",
   "metadata": {},
   "outputs": [],
   "source": [
    "cliente = tw.Client(bearer_token=bearer_token, consumer_key=consumer_key, consumer_secret=consumer_secret, access_token=access_token, access_token_secret=access_token_secret)"
   ]
  },
  {
   "cell_type": "code",
   "execution_count": 4,
   "id": "80a769e2",
   "metadata": {},
   "outputs": [],
   "source": [
    "con = sqlite3.connect('BD_Bbb.db')"
   ]
  },
  {
   "cell_type": "code",
   "execution_count": 5,
   "id": "d64783e9",
   "metadata": {},
   "outputs": [],
   "source": [
    "cur = con.cursor()"
   ]
  },
  {
   "cell_type": "code",
   "execution_count": 6,
   "id": "c8a40607",
   "metadata": {},
   "outputs": [
    {
     "name": "stdout",
     "output_type": "stream",
     "text": [
      "Para fazer a pesquisa\n",
      "copie e cola o exemplo ao lado e depois adultera a data e a hora no momento q esta abrindo o programa para de inicio e de saida do programa\n",
      "____________________________________________________________________________________________________________________________\n",
      "exemplo = 2022-03-17T10:01:01Z2022-03-17T10:01:01Z\n",
      "exemplo = 2022-03-17T13:01:01Z2022-03-17T13:01:01Z\n"
     ]
    }
   ],
   "source": [
    "print(\"Para fazer a pesquisa\")\n",
    "print(\"copie e cola o exemplo ao lado e depois adultera a data e a hora no momento q esta abrindo o programa para de inicio e de saida do programa\")\n",
    "print(\"____________________________________________________________________________________________________________________________\")\n",
    "start = input('exemplo = 2022-03-17T10:01:01Z')\n",
    "end = input('exemplo = 2022-03-17T13:01:01Z')"
   ]
  },
  {
   "cell_type": "code",
   "execution_count": 7,
   "id": "3472dbf7",
   "metadata": {},
   "outputs": [],
   "source": [
    "resposta = cliente.search_recent_tweets(query='BBB',max_results=100,start_time=start,end_time=end)"
   ]
  },
  {
   "cell_type": "code",
   "execution_count": 8,
   "id": "d14a4ec1",
   "metadata": {},
   "outputs": [],
   "source": [
    "dados = resposta.data"
   ]
  },
  {
   "cell_type": "code",
   "execution_count": 9,
   "id": "8edaced4",
   "metadata": {},
   "outputs": [],
   "source": [
    "base = []"
   ]
  },
  {
   "cell_type": "code",
   "execution_count": 10,
   "id": "fb951369",
   "metadata": {},
   "outputs": [],
   "source": [
    "for i in dados:\n",
    "    \n",
    "    linha = [0 for j in range(14)]\n",
    "    \n",
    "    linha[0] = i.text\n",
    "    \n",
    "    texto = i.text\n",
    "    \n",
    "    if('RT' in texto):\n",
    "        posicao = texto.find(':')\n",
    "        texto = texto[posicao+2:]\n",
    "        linha[12] = 1\n",
    "        \n",
    "    linha[1] = 1 if ('laís caldas' in texto.lower() or 'lais caldas' in texto.lower() or 'laís' in texto.lower() or 'lais' in texto.lower()) else 0\n",
    "    linha[2] = 1 if ('jessilane alves' in texto.lower() or 'jessilane' in texto.lower()) else 0\n",
    "    linha[3] = 1 if ('eliezer' in texto.lower()) else 0\n",
    "    linha[4] = 1 if ('eslovênia marques' in texto.lower() or 'eslovênia' in texto.lower() or 'eslovenia marques' in texto.lower() or 'eslovenia' in texto.lower()) else 0\n",
    "    linha[5] = 1 if ('lucas bissoli' in texto.lower() or 'lucas' in texto.lower()) else 0\n",
    "    linha[6] = 1 if ('arthur aguiar' in texto.lower() or 'arthur' in texto.lower()) else 0\n",
    "    linha[7] = 1 if ('natália' in texto.lower() or 'natalia' in texto.lower()) else 0\n",
    "    linha[8] = 1 if ('pedro scooby' in texto.lower() or 'pedro' in texto.lower()) else 0\n",
    "    linha[9] = 1 if ('paulo andré' in texto.lower() or 'paulo' in texto.lower() or 'paulo andre' in texto.lower()) else 0\n",
    "    linha[10] = 1 if ('douglas silva' in texto.lower() or 'douglas' in texto.lower()) else 0\n",
    "    linha[11] = 1 if ('linn da quebrada' in texto.lower() or 'linn' in texto.lower()) else 0\n",
    "    linha[12] = 1 if ('gustavo' in texto.lower() or 'gustavo' in texto.lower()) else 0\n",
    "    \n",
    "    \n",
    "    base.append(linha)"
   ]
  },
  {
   "cell_type": "code",
   "execution_count": 11,
   "id": "6a398f72",
   "metadata": {},
   "outputs": [],
   "source": [
    "baseBBB = pd.DataFrame(base)\n",
    "baseBBB.columns = ['texto','lais','jessilane','eliezer','eslovênia','lucas','arthur','natália','scooby','paulo','douglas','lina','gustavo','RT']"
   ]
  },
  {
   "cell_type": "code",
   "execution_count": 12,
   "id": "022fea90",
   "metadata": {},
   "outputs": [],
   "source": [
    "baseView = baseBBB.drop(['texto','RT'],axis=1)"
   ]
  },
  {
   "cell_type": "code",
   "execution_count": 13,
   "id": "58fcdff3",
   "metadata": {},
   "outputs": [],
   "source": [
    "comentarios = baseView.sum().sort_values(ascending=False).to_list()"
   ]
  },
  {
   "cell_type": "code",
   "execution_count": 14,
   "id": "f51910e0",
   "metadata": {},
   "outputs": [],
   "source": [
    "participantes = baseView.sum().sort_values(ascending=False).index.to_list()"
   ]
  },
  {
   "cell_type": "code",
   "execution_count": 15,
   "id": "12885991",
   "metadata": {},
   "outputs": [],
   "source": [
    "base2 = pd.DataFrame(zip(participantes,comentarios))\n",
    "base2.columns = ['pessoas','comentarios']"
   ]
  },
  {
   "cell_type": "code",
   "execution_count": 16,
   "id": "875e358a",
   "metadata": {},
   "outputs": [],
   "source": [
    "total_comentarios = base2['comentarios'].sum()"
   ]
  },
  {
   "cell_type": "code",
   "execution_count": 17,
   "id": "93bcdce0",
   "metadata": {},
   "outputs": [],
   "source": [
    "base2['perc'] = base2['comentarios']/total_comentarios\n"
   ]
  },
  {
   "cell_type": "code",
   "execution_count": 18,
   "id": "714713de",
   "metadata": {},
   "outputs": [],
   "source": [
    "base2['perc_acum'] = base2['perc'].cumsum()"
   ]
  },
  {
   "cell_type": "code",
   "execution_count": 19,
   "id": "8638eeeb",
   "metadata": {},
   "outputs": [],
   "source": [
    "base2['perc_form'] = base2['perc'].map(\"{:.1%}\".format)\n",
    "base2['perc_acum_form'] = base2['perc_acum'].map(\"{:.1%}\".format)"
   ]
  },
  {
   "cell_type": "code",
   "execution_count": 20,
   "id": "05a99728",
   "metadata": {},
   "outputs": [
    {
     "name": "stdout",
     "output_type": "stream",
     "text": [
      "      pessoas  comentarios perc_form perc_acum_form\n",
      "0     natália           15     42.9%          42.9%\n",
      "1      arthur           10     28.6%          71.4%\n",
      "2     gustavo            3      8.6%          80.0%\n",
      "3        lais            2      5.7%          85.7%\n",
      "4       paulo            2      5.7%          91.4%\n",
      "5        lina            2      5.7%          97.1%\n",
      "6       lucas            1      2.9%         100.0%\n",
      "7   jessilane            0      0.0%         100.0%\n",
      "8     eliezer            0      0.0%         100.0%\n",
      "9   eslovênia            0      0.0%         100.0%\n",
      "10     scooby            0      0.0%         100.0%\n",
      "11    douglas            0      0.0%         100.0%\n"
     ]
    }
   ],
   "source": [
    "previsao = base2[['pessoas','comentarios','perc_form','perc_acum_form']]\n",
    "print(previsao)"
   ]
  },
  {
   "cell_type": "code",
   "execution_count": 21,
   "id": "b4cddc5a",
   "metadata": {},
   "outputs": [],
   "source": [
    "arquivo = open('bot_bbb.txt', 'w')\n",
    "arquivo.write(f\"{previsao}\\n\")\n",
    "arquivo.close()      "
   ]
  },
  {
   "cell_type": "code",
   "execution_count": null,
   "id": "50b2117d",
   "metadata": {},
   "outputs": [],
   "source": []
  },
  {
   "cell_type": "code",
   "execution_count": null,
   "id": "21be8785",
   "metadata": {},
   "outputs": [],
   "source": []
  },
  {
   "cell_type": "code",
   "execution_count": null,
   "id": "32b61ba8",
   "metadata": {},
   "outputs": [],
   "source": []
  },
  {
   "cell_type": "code",
   "execution_count": null,
   "id": "aa92e135",
   "metadata": {},
   "outputs": [],
   "source": []
  }
 ],
 "metadata": {
  "kernelspec": {
   "display_name": "Python 3 (ipykernel)",
   "language": "python",
   "name": "python3"
  },
  "language_info": {
   "codemirror_mode": {
    "name": "ipython",
    "version": 3
   },
   "file_extension": ".py",
   "mimetype": "text/x-python",
   "name": "python",
   "nbconvert_exporter": "python",
   "pygments_lexer": "ipython3",
   "version": "3.8.12"
  }
 },
 "nbformat": 4,
 "nbformat_minor": 5
}
